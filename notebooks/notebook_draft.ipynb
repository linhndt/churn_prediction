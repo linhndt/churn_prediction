{
 "cells": [
  {
   "cell_type": "code",
   "execution_count": null,
   "metadata": {},
   "outputs": [],
   "source": [
    "import pandas as pd\n",
    "import numpy as np\n",
    "import matplotlib.pyplot as plt\n",
    "import seaborn as sns"
   ]
  },
  {
   "cell_type": "code",
   "execution_count": null,
   "metadata": {},
   "outputs": [],
   "source": [
    "train_file = 'train.csv'\n",
    "test_file = 'test.csv'\n",
    "data_dict = 'data_dict.csv'"
   ]
  },
  {
   "cell_type": "code",
   "execution_count": null,
   "metadata": {},
   "outputs": [],
   "source": [
    "train_data = pd.read_csv(train_file)\n",
    "test_data = pd.read_csv(test_file)\n",
    "data_dict = pd.read_csv(data_dict)"
   ]
  },
  {
   "cell_type": "code",
   "execution_count": null,
   "metadata": {},
   "outputs": [],
   "source": [
    "x_train = train_data.iloc[:, :-1]\n",
    "y_train = train_data.iloc[:, -1:]\n",
    "\n",
    "x_test = test_data.iloc[:, :-1]\n",
    "y_test = test_data.iloc[:, -1:]\n",
    "print(x_test.shape)\n",
    "print(x_train.shape)"
   ]
  },
  {
   "cell_type": "code",
   "execution_count": null,
   "metadata": {},
   "outputs": [],
   "source": [
    "def get_unique_value(data):\n",
    "    \n",
    "    unique_dict = {}\n",
    "    \n",
    "    for col in data.columns:\n",
    "        unique_dict[col] = data[col].unique()\n",
    "    \n",
    "    return unique_dict"
   ]
  },
  {
   "cell_type": "code",
   "execution_count": null,
   "metadata": {},
   "outputs": [],
   "source": [
    "get_unique_value(train_data)"
   ]
  },
  {
   "cell_type": "code",
   "execution_count": null,
   "metadata": {},
   "outputs": [],
   "source": [
    "data_dict"
   ]
  },
  {
   "cell_type": "code",
   "execution_count": null,
   "metadata": {},
   "outputs": [],
   "source": [
    "def get_type_var(data, type_col_name=\"Type\", var_col_name=\"Variable\"):\n",
    "    \n",
    "    numeric_list = []\n",
    "    categorical_list = []\n",
    "\n",
    "    for index, row in data.iterrows():\n",
    "        if row[type_col_name] == \"Numeric\":\n",
    "            numeric_list.append(row[var_col_name])\n",
    "        else:\n",
    "            categorical_list.append(row[var_col_name])\n",
    "    \n",
    "    return numeric_list, categorical_list        "
   ]
  },
  {
   "cell_type": "code",
   "execution_count": null,
   "metadata": {},
   "outputs": [],
   "source": [
    "numeric_features, categorical_features = get_type_var(data_dict)\n",
    "categorical_features"
   ]
  },
  {
   "cell_type": "code",
   "execution_count": null,
   "metadata": {},
   "outputs": [],
   "source": [
    "train_data[numeric_features].describe()"
   ]
  },
  {
   "cell_type": "code",
   "execution_count": null,
   "metadata": {},
   "outputs": [],
   "source": [
    "train_data[categorical_features].describe()"
   ]
  },
  {
   "cell_type": "markdown",
   "metadata": {},
   "source": [
    "# Visualisation"
   ]
  },
  {
   "cell_type": "code",
   "execution_count": null,
   "metadata": {},
   "outputs": [],
   "source": [
    "# visualise distribution\n",
    "def plot_distribution(feature):\n",
    "    sns.set_style(\"ticks\")\n",
    "    s = sns.FacetGrid(train_data, hue=\"churn\", aspect=2.5, palette={1: 'Lightblue', 0: \"pink\"})\n",
    "    s.map(sns.kdeplot, feature, shade=True, alpha=0.8)\n",
    "    s.set(xlim=(0, train_data[feature].max()))\n",
    "    s.add_legend()\n",
    "    s.set_axis_labels(feature, \"Proportion\")\n",
    "    plt.show()"
   ]
  },
  {
   "cell_type": "code",
   "execution_count": null,
   "metadata": {},
   "outputs": [],
   "source": [
    "for feature in numeric_features:\n",
    "    plot_distribution(feature)"
   ]
  },
  {
   "cell_type": "code",
   "execution_count": null,
   "metadata": {},
   "outputs": [],
   "source": [
    "def categorical_visualisation(feature, churn_col_name=\"churn\"):\n",
    "\n",
    "    index_value = train_data[feature].unique().tolist()\n",
    "\n",
    "    churn = []\n",
    "    stay = []\n",
    "\n",
    "    for value in index_value:\n",
    "        col_data = train_data.loc[train_data[feature] == value][churn_col_name]\n",
    "\n",
    "        churn.append(sum(col_data))\n",
    "        stay.append(len(col_data) - sum(col_data))\n",
    "\n",
    "    new_df = pd.DataFrame({\"churn\": churn, \"stay\": stay}, index=index_value)\n",
    "    \n",
    "    new_df.plot.bar(rot=0)\n",
    "    \n",
    "    plt.title(\"Churn rate by \" + feature_col)\n",
    "    plt.show()"
   ]
  },
  {
   "cell_type": "code",
   "execution_count": null,
   "metadata": {},
   "outputs": [],
   "source": [
    "for feature in categorical_features:\n",
    "    categorical_visualisation(feature)"
   ]
  },
  {
   "cell_type": "markdown",
   "metadata": {},
   "source": [
    "# Feature Engineering"
   ]
  },
  {
   "cell_type": "markdown",
   "metadata": {},
   "source": [
    "to be updated"
   ]
  },
  {
   "cell_type": "markdown",
   "metadata": {},
   "source": [
    "# Modelling"
   ]
  },
  {
   "cell_type": "code",
   "execution_count": null,
   "metadata": {},
   "outputs": [],
   "source": [
    "# Split ratio train_data : val_data\n",
    "split_ratio = 0.8\n",
    "\n",
    "split_data = np.split(train_data, [int(train_data.shape[0] * 0.8)], axis=0)\n",
    "\n",
    "train_data_n = split_data[0]\n",
    "val_data = split_data[1]\n",
    "\n",
    "print(train_data.shape)\n",
    "print(val_data.shape)"
   ]
  },
  {
   "cell_type": "code",
   "execution_count": null,
   "metadata": {},
   "outputs": [],
   "source": [
    "# Import library\n",
    "from sklearn.ensemble import RandomForestClassifier\n",
    "\n",
    "# Build model\n",
    "\n",
    "X = pd.get_dummies(train_data_n.iloc[:, :-1])\n",
    "y = train_data_n[\"churn\"]\n",
    "\n",
    "model = RandomForestClassifier(n_estimators=400, max_depth=5, random_state=1)\n",
    "model.fit(X, y)\n",
    "\n",
    "print(\".... Finish training model.\")"
   ]
  },
  {
   "cell_type": "code",
   "execution_count": null,
   "metadata": {},
   "outputs": [],
   "source": [
    "X_val = pd.get_dummies(val_data)\n",
    "y_val = val_data[\"churn\"].tolist()\n",
    "\n",
    "predictions = model.predict(X_val)\n",
    "pred_list = predictions.tolist()"
   ]
  },
  {
   "cell_type": "code",
   "execution_count": null,
   "metadata": {},
   "outputs": [],
   "source": [
    "y_true = []\n",
    "y_pred = []\n",
    "\n",
    "accurate_pred = 0\n",
    "total_pred = 0\n",
    "\n",
    "for i in range(val_data.shape[0]):\n",
    "    if pred_list[i] == y_val[i]:\n",
    "        accurate_pred += 1\n",
    "    \n",
    "    total_pred += 1\n",
    "    \n",
    "    y_true.append(y_val[i])\n",
    "    y_pred.append(pred_list[i])\n",
    "\n",
    "print(\"The percentage of correct predictions is: \", accurate_pred / total_pred * 100)"
   ]
  },
  {
   "cell_type": "code",
   "execution_count": null,
   "metadata": {},
   "outputs": [],
   "source": [
    "# Confusion matrix\n",
    "# Import confusion_matrix lib\n",
    "from sklearn.metrics import confusion_matrix\n",
    "\n",
    "# Build confusion matrix\n",
    "cf_matrix = confusion_matrix(y_true, y_pred)\n",
    "\n",
    "# Visualise confusion matrix\n",
    "df_cm = pd.DataFrame(cf_matrix, index = [i for i in range(2)], columns = [i for i in range(2)])\n",
    "plt.figure(figsize = (10,7))\n",
    "sns.heatmap(df_cm, annot=True)"
   ]
  },
  {
   "cell_type": "code",
   "execution_count": null,
   "metadata": {},
   "outputs": [],
   "source": [
    "# test data\n",
    "X_test = pd.get_dummies(x_test)\n",
    "y_test = y_test.values.tolist()\n",
    "\n",
    "predictions_test = model.predict(X_test)\n",
    "pred_list_test = predictions_test.tolist()"
   ]
  },
  {
   "cell_type": "code",
   "execution_count": null,
   "metadata": {},
   "outputs": [],
   "source": []
  },
  {
   "cell_type": "code",
   "execution_count": null,
   "metadata": {},
   "outputs": [],
   "source": []
  }
 ],
 "metadata": {
  "kernelspec": {
   "display_name": "Python 3",
   "language": "python",
   "name": "python3"
  },
  "language_info": {
   "codemirror_mode": {
    "name": "ipython",
    "version": 3
   },
   "file_extension": ".py",
   "mimetype": "text/x-python",
   "name": "python",
   "nbconvert_exporter": "python",
   "pygments_lexer": "ipython3",
   "version": "3.7.6"
  }
 },
 "nbformat": 4,
 "nbformat_minor": 4
}
